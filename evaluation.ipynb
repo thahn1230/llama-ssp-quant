{
 "cells": [
  {
   "cell_type": "code",
   "execution_count": 1,
   "metadata": {},
   "outputs": [
    {
     "ename": "SyntaxError",
     "evalue": "invalid syntax (280961585.py, line 2)",
     "output_type": "error",
     "traceback": [
      "\u001b[0;36m  Cell \u001b[0;32mIn[1], line 2\u001b[0;36m\u001b[0m\n\u001b[0;31m    import torch.nn aas nn\u001b[0m\n\u001b[0m                    ^\u001b[0m\n\u001b[0;31mSyntaxError\u001b[0m\u001b[0;31m:\u001b[0m invalid syntax\n"
     ]
    }
   ],
   "source": [
    "import torch\n",
    "import torch.nn as nn\n",
    "import tqdm\n",
    "import json\n",
    "import os\n",
    "from datasets import load_dataset\n",
    "from transformers.models.opt.modeling_opt import (\n",
    "    OPTAttention,\n",
    "    OPTDecoderLayer,\n",
    "    OPTForCausalLM,\n",
    ")\n",
    "from transformers import GPT2Tokenizer, AutoTokenizer, AutoModelForCausalLM\n",
    "from smoothquant.smooth import smooth_lm\n",
    "from smoothquant.fake_quant_2_bits import quantize_qwen2 as quantize_qwen2_2\n",
    "from smoothquant.fake_quant_4_bits import quantize_qwen2 as quantize_qwen2_4\n",
    "from smoothquant.fake_quant_6_bits import quantize_qwen2 as quantize_qwen2_6\n",
    "from smoothquant.fake_quant_8_bits import quantize_qwen2 as quantize_qwen2_8"
   ]
  },
  {
   "cell_type": "code",
   "execution_count": 2,
   "metadata": {},
   "outputs": [],
   "source": [
    "class Evaluator:\n",
    "    def __init__(self, dataset, tokenizer, device):\n",
    "        self.dataset = dataset\n",
    "        self.tokenizer = tokenizer\n",
    "        self.device = device\n",
    "\n",
    "        # tokenize the dataset\n",
    "        def tokenize_function(examples):\n",
    "            example = self.tokenizer(examples[\"text\"])\n",
    "            return example\n",
    "\n",
    "        self.dataset = self.dataset.map(tokenize_function, batched=True)\n",
    "        self.dataset.set_format(type=\"torch\", columns=[\"input_ids\"])\n",
    "\n",
    "    @torch.no_grad()\n",
    "    def evaluate(self, model):\n",
    "        model.eval()\n",
    "        # The task is to predict the last word of the input.\n",
    "        total, hit = 0, 0\n",
    "        for batch in self.dataset:\n",
    "            input_ids = batch[\"input_ids\"].to(self.device).unsqueeze(0)\n",
    "            label = input_ids[:, -1]\n",
    "            outputs = model(input_ids)\n",
    "            \n",
    "            # Check sequence length to avoid IndexError\n",
    "            sequence_length = outputs.logits.size(1)\n",
    "            if sequence_length < 2:\n",
    "                # If the sequence length is less than 2, use the last token\n",
    "                last_token_logits = outputs.logits[:, -1, :]\n",
    "            else:\n",
    "                # Otherwise, use the second-to-last token\n",
    "                last_token_logits = outputs.logits[:, -2, :]\n",
    "            \n",
    "            pred = last_token_logits.argmax(dim=-1)\n",
    "            total += label.size(0)\n",
    "            hit += (pred == label).sum().item()\n",
    "        acc = hit / total\n",
    "        return acc"
   ]
  },
  {
   "cell_type": "code",
   "execution_count": 15,
   "metadata": {},
   "outputs": [
    {
     "name": "stderr",
     "output_type": "stream",
     "text": [
      "Map: 100%|██████████| 1000/1000 [00:00<00:00, 8337.85 examples/s]\n"
     ]
    }
   ],
   "source": [
    "from datasets import load_dataset\n",
    "\n",
    "tokenizer = AutoTokenizer.from_pretrained(\"Qwen/Qwen2.5-0.5B\")\n",
    "# dataset = load_dataset(\"wikitext\", \"wikitext-2-raw-v1\", split=\"test\")\n",
    "# dataset = dataset.select(range(1000))  # 데이터셋에서 처음 1000개를 선택\n",
    "dataset = load_dataset(\"lambada\", split=\"validation[:1000]\")  # LAMBADA 데이터셋\n",
    "evaluator = Evaluator(dataset, tokenizer, \"cuda\")\n"
   ]
  },
  {
   "cell_type": "code",
   "execution_count": 19,
   "metadata": {},
   "outputs": [
    {
     "name": "stderr",
     "output_type": "stream",
     "text": [
      "Map: 100%|██████████| 1000/1000 [00:00<00:00, 9323.64 examples/s]\n"
     ]
    }
   ],
   "source": [
    "model = AutoModelForCausalLM.from_pretrained(\n",
    "    \"Qwen/Qwen2.5-0.5B\", torch_dtype=torch.float16, device_map=\"auto\"\n",
    ").to(\"cuda:0\")\n",
    "\n",
    "evaluator = Evaluator(dataset, tokenizer, \"cuda:0\")\n"
   ]
  },
  {
   "cell_type": "code",
   "execution_count": 20,
   "metadata": {},
   "outputs": [
    {
     "name": "stdout",
     "output_type": "stream",
     "text": [
      "Qwen2.5 0.5B model accuracy: 0.666\n"
     ]
    }
   ],
   "source": [
    "opt_model = evaluator.evaluate(model)\n",
    "print(f\"Qwen2.5 0.5B model accuracy: {opt_model}\")"
   ]
  },
  {
   "cell_type": "code",
   "execution_count": 29,
   "metadata": {},
   "outputs": [
    {
     "name": "stderr",
     "output_type": "stream",
     "text": [
      "/tmp/ipykernel_46272/1321960318.py:5: FutureWarning: You are using `torch.load` with `weights_only=False` (the current default value), which uses the default pickle module implicitly. It is possible to construct malicious pickle data which will execute arbitrary code during unpickling (See https://github.com/pytorch/pytorch/blob/main/SECURITY.md#untrusted-models for more details). In a future release, the default value for `weights_only` will be flipped to `True`. This limits the functions that could be executed during unpickling. Arbitrary objects will no longer be allowed to be loaded via this mode unless they are explicitly allowlisted by the user via `torch.serialization.add_safe_globals`. We recommend you start setting `weights_only=True` for any use case where you don't have full control of the loaded file. Please open an issue on GitHub for any issues related to this experimental feature.\n",
      "  act_scales = torch.load(\"act_scales/Qwen2.5-0.5b.pt\")\n"
     ]
    }
   ],
   "source": [
    "model = AutoModelForCausalLM.from_pretrained(\n",
    "    \"Qwen/Qwen2.5-0.5B\", torch_dtype=torch.float16, device_map=\"auto\"\n",
    ")\n",
    "\n",
    "act_scales = torch.load(\"act_scales/Qwen2.5-0.5b.pt\")\n",
    "smooth_lm(model, act_scales, 0.85)\n",
    "model_smoothquant = quantize_qwen2_2(model).to(\"cuda:0\") "
   ]
  },
  {
   "cell_type": "code",
   "execution_count": 30,
   "metadata": {},
   "outputs": [
    {
     "name": "stdout",
     "output_type": "stream",
     "text": [
      "SmoothQuant W8A8 quantized model accuracy: 0.0\n"
     ]
    }
   ],
   "source": [
    "acc_smoothquant = evaluator.evaluate(model_smoothquant)\n",
    "print(f\"SmoothQuant W8A8 quantized model accuracy: {acc_smoothquant}\")"
   ]
  }
 ],
 "metadata": {
  "kernelspec": {
   "display_name": "awq",
   "language": "python",
   "name": "python3"
  },
  "language_info": {
   "codemirror_mode": {
    "name": "ipython",
    "version": 3
   },
   "file_extension": ".py",
   "mimetype": "text/x-python",
   "name": "python",
   "nbconvert_exporter": "python",
   "pygments_lexer": "ipython3",
   "version": "3.10.16"
  }
 },
 "nbformat": 4,
 "nbformat_minor": 2
}
